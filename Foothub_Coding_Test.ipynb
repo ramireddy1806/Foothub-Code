{
  "nbformat": 4,
  "nbformat_minor": 0,
  "metadata": {
    "colab": {
      "name": "Foothub Coding Test",
      "provenance": [],
      "collapsed_sections": [],
      "toc_visible": true
    },
    "kernelspec": {
      "display_name": "Python 3",
      "name": "python3"
    }
  },
  "cells": [
    {
      "cell_type": "markdown",
      "metadata": {
        "id": "PoJT4ShlSLLz"
      },
      "source": [
        "# Foothub_Coding_Test"
      ]
    },
    {
      "cell_type": "code",
      "metadata": {
        "colab": {
          "base_uri": "https://localhost:8080/"
        },
        "id": "ikClJHydSN9a",
        "outputId": "9294c46b-8b18-4fa7-9873-5f8b7f1e7ca8"
      },
      "source": [
        "!pip install pyspark"
      ],
      "execution_count": null,
      "outputs": [
        {
          "output_type": "stream",
          "text": [
            "Collecting pyspark\n",
            "\u001b[?25l  Downloading https://files.pythonhosted.org/packages/89/db/e18cfd78e408de957821ec5ca56de1250645b05f8523d169803d8df35a64/pyspark-3.1.2.tar.gz (212.4MB)\n",
            "\u001b[K     |████████████████████████████████| 212.4MB 69kB/s \n",
            "\u001b[?25hCollecting py4j==0.10.9\n",
            "\u001b[?25l  Downloading https://files.pythonhosted.org/packages/9e/b6/6a4fb90cd235dc8e265a6a2067f2a2c99f0d91787f06aca4bcf7c23f3f80/py4j-0.10.9-py2.py3-none-any.whl (198kB)\n",
            "\u001b[K     |████████████████████████████████| 204kB 18.5MB/s \n",
            "\u001b[?25hBuilding wheels for collected packages: pyspark\n",
            "  Building wheel for pyspark (setup.py) ... \u001b[?25l\u001b[?25hdone\n",
            "  Created wheel for pyspark: filename=pyspark-3.1.2-py2.py3-none-any.whl size=212880768 sha256=6c4a92ad307ec53ba3a8e4b002e94b4c8d48381ac15464d54894b5b888a8de84\n",
            "  Stored in directory: /root/.cache/pip/wheels/40/1b/2c/30f43be2627857ab80062bef1527c0128f7b4070b6b2d02139\n",
            "Successfully built pyspark\n",
            "Installing collected packages: py4j, pyspark\n",
            "Successfully installed py4j-0.10.9 pyspark-3.1.2\n"
          ],
          "name": "stdout"
        }
      ]
    },
    {
      "cell_type": "code",
      "metadata": {
        "id": "K6hx8mUzSSz8"
      },
      "source": [
        "import pyspark"
      ],
      "execution_count": null,
      "outputs": []
    },
    {
      "cell_type": "code",
      "metadata": {
        "id": "gSwDTxyIS1la"
      },
      "source": [
        "from pyspark.sql import SparkSession\n",
        "from pyspark.sql.types import DateType, DoubleType, IntegerType\n",
        "from pyspark.sql.functions import *"
      ],
      "execution_count": null,
      "outputs": []
    },
    {
      "cell_type": "code",
      "metadata": {
        "id": "7R6GnZTTS84c"
      },
      "source": [
        "spark = SparkSession.builder.appName('Test').getOrCreate()"
      ],
      "execution_count": null,
      "outputs": []
    },
    {
      "cell_type": "code",
      "metadata": {
        "colab": {
          "base_uri": "https://localhost:8080/",
          "height": 216
        },
        "id": "GHk2UJ10TNyl",
        "outputId": "02755985-7624-469c-9b2e-fc89cb49b0dd"
      },
      "source": [
        "spark"
      ],
      "execution_count": null,
      "outputs": [
        {
          "output_type": "execute_result",
          "data": {
            "text/html": [
              "\n",
              "            <div>\n",
              "                <p><b>SparkSession - in-memory</b></p>\n",
              "                \n",
              "        <div>\n",
              "            <p><b>SparkContext</b></p>\n",
              "\n",
              "            <p><a href=\"http://e5f9cc97cbfb:4040\">Spark UI</a></p>\n",
              "\n",
              "            <dl>\n",
              "              <dt>Version</dt>\n",
              "                <dd><code>v3.1.2</code></dd>\n",
              "              <dt>Master</dt>\n",
              "                <dd><code>local[*]</code></dd>\n",
              "              <dt>AppName</dt>\n",
              "                <dd><code>Test</code></dd>\n",
              "            </dl>\n",
              "        </div>\n",
              "        \n",
              "            </div>\n",
              "        "
            ],
            "text/plain": [
              "<pyspark.sql.session.SparkSession at 0x7fc42e9c73d0>"
            ]
          },
          "metadata": {
            "tags": []
          },
          "execution_count": 5
        }
      ]
    },
    {
      "cell_type": "code",
      "metadata": {
        "id": "NF01W7KATRV7"
      },
      "source": [
        "# Import Customer_test data\n",
        "customer_data = spark.read.option('header', 'true').csv('customer_test.csv', inferSchema = True)"
      ],
      "execution_count": null,
      "outputs": []
    },
    {
      "cell_type": "code",
      "metadata": {
        "colab": {
          "base_uri": "https://localhost:8080/"
        },
        "id": "TWXn5_i8U8ag",
        "outputId": "0aa8294f-71cc-4806-bd3b-0b7018b254c7"
      },
      "source": [
        "# Check for the data types\n",
        "customer_data.printSchema()"
      ],
      "execution_count": null,
      "outputs": [
        {
          "output_type": "stream",
          "text": [
            "root\n",
            " |-- id: integer (nullable = true)\n",
            " |-- first_name: string (nullable = true)\n",
            " |-- last_name: string (nullable = true)\n",
            " |-- email: string (nullable = true)\n",
            "\n"
          ],
          "name": "stdout"
        }
      ]
    },
    {
      "cell_type": "code",
      "metadata": {
        "colab": {
          "base_uri": "https://localhost:8080/"
        },
        "id": "FXdw0y4lU4LR",
        "outputId": "df7dff32-3410-48ba-a1f4-b850df8e6363"
      },
      "source": [
        "# Top 3 rows in the data set\n",
        "customer_data.head(3)"
      ],
      "execution_count": null,
      "outputs": [
        {
          "output_type": "execute_result",
          "data": {
            "text/plain": [
              "[Row(id=1, first_name='Sara', last_name='Ramirez', email='samantha67@yahoo.com'),\n",
              " Row(id=2, first_name='Joshua', last_name='Jimenez', email='richardtimothy@hotmail.com'),\n",
              " Row(id=3, first_name='Nicole', last_name='Navarro', email='nicholsonwilliam@valdez.net')]"
            ]
          },
          "metadata": {
            "tags": []
          },
          "execution_count": 8
        }
      ]
    },
    {
      "cell_type": "code",
      "metadata": {
        "id": "ZtwjBlvaUOAg"
      },
      "source": [
        "# Import Orders_test data\n",
        "orders_data = spark.read.option('header', 'true').csv('orders_test.csv', inferSchema = True)"
      ],
      "execution_count": null,
      "outputs": []
    },
    {
      "cell_type": "code",
      "metadata": {
        "id": "U7qDgGnnY_2o",
        "colab": {
          "base_uri": "https://localhost:8080/"
        },
        "outputId": "90cd9158-11ed-4540-9e71-495041455f5f"
      },
      "source": [
        "# Check for the data types\n",
        "orders_data.printSchema()"
      ],
      "execution_count": null,
      "outputs": [
        {
          "output_type": "stream",
          "text": [
            "root\n",
            " |-- id: integer (nullable = true)\n",
            " |-- total: double (nullable = true)\n",
            " |-- customer_id: integer (nullable = true)\n",
            " |-- store_id: integer (nullable = true)\n",
            " |-- order_date: string (nullable = true)\n",
            "\n"
          ],
          "name": "stdout"
        }
      ]
    },
    {
      "cell_type": "code",
      "metadata": {
        "id": "skT4uachb-K_"
      },
      "source": [
        "# order_date column reading as string, lets convert it to Date type.\n",
        "orders_data = orders_data.withColumn(\"order_date\", orders_data[\"order_date\"].cast(DateType()))"
      ],
      "execution_count": null,
      "outputs": []
    },
    {
      "cell_type": "code",
      "metadata": {
        "colab": {
          "base_uri": "https://localhost:8080/"
        },
        "id": "FNvq9Ob4i-YF",
        "outputId": "04f07749-2f04-4556-dd9f-dcf19ec881b3"
      },
      "source": [
        "orders_data.printSchema()"
      ],
      "execution_count": null,
      "outputs": [
        {
          "output_type": "stream",
          "text": [
            "root\n",
            " |-- id: integer (nullable = true)\n",
            " |-- total: double (nullable = true)\n",
            " |-- customer_id: integer (nullable = true)\n",
            " |-- store_id: integer (nullable = true)\n",
            " |-- order_date: date (nullable = true)\n",
            "\n"
          ],
          "name": "stdout"
        }
      ]
    },
    {
      "cell_type": "code",
      "metadata": {
        "colab": {
          "base_uri": "https://localhost:8080/"
        },
        "id": "7KFUlEwNVb4F",
        "outputId": "0ae84f65-77c9-472f-adc0-cbf3f95a2681"
      },
      "source": [
        "# Viewing top 3 rows in the dataset\n",
        "orders_data.head(3)"
      ],
      "execution_count": null,
      "outputs": [
        {
          "output_type": "execute_result",
          "data": {
            "text/plain": [
              "[Row(id=1, total=19.36, customer_id=21, store_id=1, order_date=datetime.date(2020, 3, 3)),\n",
              " Row(id=2, total=8.85, customer_id=88, store_id=8, order_date=datetime.date(2020, 4, 2)),\n",
              " Row(id=3, total=5.53, customer_id=41, store_id=3, order_date=datetime.date(2020, 3, 3))]"
            ]
          },
          "metadata": {
            "tags": []
          },
          "execution_count": 13
        }
      ]
    },
    {
      "cell_type": "code",
      "metadata": {
        "id": "zrhrDfQhUkF_"
      },
      "source": [
        "# Importing store_test data\n",
        "store_data = spark.read.options(header=True, multiline = True).csv('store_test.csv')"
      ],
      "execution_count": null,
      "outputs": []
    },
    {
      "cell_type": "code",
      "metadata": {
        "colab": {
          "base_uri": "https://localhost:8080/"
        },
        "id": "HBXrEtXHU0Dd",
        "outputId": "f565a8da-104f-470e-dfc7-e64918871348"
      },
      "source": [
        "# Check for the column types\n",
        "store_data.printSchema()"
      ],
      "execution_count": null,
      "outputs": [
        {
          "output_type": "stream",
          "text": [
            "root\n",
            " |-- id: string (nullable = true)\n",
            " |-- name: string (nullable = true)\n",
            " |-- address: string (nullable = true)\n",
            "\n"
          ],
          "name": "stdout"
        }
      ]
    },
    {
      "cell_type": "code",
      "metadata": {
        "id": "0NxK5TzbkLHa"
      },
      "source": [
        "# Convert 'id' column from string to integer\n",
        "store_data = store_data.withColumn(\"id\", store_data[\"id\"].cast(IntegerType()))"
      ],
      "execution_count": null,
      "outputs": []
    },
    {
      "cell_type": "code",
      "metadata": {
        "colab": {
          "base_uri": "https://localhost:8080/"
        },
        "id": "JpgmK5x8jMF9",
        "outputId": "b5463fe9-13a4-41b6-e4f0-7e06abd27e12"
      },
      "source": [
        "# Look at the top 3 rows in the data set\n",
        "store_data.head(3)"
      ],
      "execution_count": null,
      "outputs": [
        {
          "output_type": "execute_result",
          "data": {
            "text/plain": [
              "[Row(id=1, name='Valdez Inc', address='18321 Joseph Lodge\\nChristineland, NH 69026'),\n",
              " Row(id=2, name='Stevens-Barr', address='Unit 0902 Box 4445\\nDPO AE 19637'),\n",
              " Row(id=3, name='Taylor Ltd', address='3433 Hill Forest\\nCharlesmouth, KY 16037')]"
            ]
          },
          "metadata": {
            "tags": []
          },
          "execution_count": 17
        }
      ]
    },
    {
      "cell_type": "code",
      "metadata": {
        "id": "ZG7wXrWbFVS8"
      },
      "source": [
        "# Extract Year, Month and Day of month from Order_date column and create new columns for the same.\n",
        "orders_data = orders_data.withColumn('Year', year(orders_data.order_date))\n",
        "orders_data = orders_data.withColumn('Month', month(orders_data.order_date))\n",
        "orders_data = orders_data.withColumn('day', dayofmonth(orders_data.order_date))\n"
      ],
      "execution_count": null,
      "outputs": []
    },
    {
      "cell_type": "code",
      "metadata": {
        "colab": {
          "base_uri": "https://localhost:8080/"
        },
        "id": "ZiWjO18XFiOX",
        "outputId": "1efb6d51-a5cb-4c61-fa1d-962b5ec21717"
      },
      "source": [
        "orders_data.head(3)"
      ],
      "execution_count": null,
      "outputs": [
        {
          "output_type": "execute_result",
          "data": {
            "text/plain": [
              "[Row(id=1, total=19.36, customer_id=21, store_id=1, order_date=datetime.date(2020, 3, 3), Year=2020, Month=3, day=3),\n",
              " Row(id=2, total=8.85, customer_id=88, store_id=8, order_date=datetime.date(2020, 4, 2), Year=2020, Month=4, day=2),\n",
              " Row(id=3, total=5.53, customer_id=41, store_id=3, order_date=datetime.date(2020, 3, 3), Year=2020, Month=3, day=3)]"
            ]
          },
          "metadata": {
            "tags": []
          },
          "execution_count": 19
        }
      ]
    },
    {
      "cell_type": "code",
      "metadata": {
        "id": "xXuziPMO7635"
      },
      "source": [
        "# Replace month number with Month name\n",
        "orders_data = orders_data.withColumn('Month', when(orders_data['Month']==1, \\\n",
        "                                       'January').otherwise(when(orders_data['Month']==2, 'February'\\\n",
        "                                                                 ).otherwise(when(orders_data['Month']==3, 'March'\\\n",
        "                                                                                  ).otherwise(when(orders_data['Month']==4, 'April'\\\n",
        "                                                                                                   ).otherwise(when(orders_data['Month']==5, 'May'\\\n",
        "                                                                                                                    ).otherwise(when(orders_data['Month']==6, 'June'\\\n",
        "                                                                                                                                     ).otherwise(when(orders_data['Month']==7, 'July'\\\n",
        "                                                                                                                                                      ).otherwise(when(orders_data['Month']==8, 'August'\\\n",
        "                                                                                                                                                                       ).otherwise(when(orders_data['Month']==9, 'September'\\\n",
        "                                                                                                                                                                                        ).otherwise(when(orders_data['Month']==10, 'October'\\\n",
        "                                                                                                                                                                                                         ).otherwise(when(orders_data['Month']==11, 'November').otherwise('December'))))))))))))"
      ],
      "execution_count": null,
      "outputs": []
    },
    {
      "cell_type": "code",
      "metadata": {
        "colab": {
          "base_uri": "https://localhost:8080/"
        },
        "id": "wgc7f_LQ9V4C",
        "outputId": "f162eb98-7849-451b-d2fe-92d27c6bfa86"
      },
      "source": [
        "orders_data.head(3)"
      ],
      "execution_count": null,
      "outputs": [
        {
          "output_type": "execute_result",
          "data": {
            "text/plain": [
              "[Row(id=1, total=19.36, customer_id=21, store_id=1, order_date=datetime.date(2020, 3, 3), Year=2020, Month='March', day=3),\n",
              " Row(id=2, total=8.85, customer_id=88, store_id=8, order_date=datetime.date(2020, 4, 2), Year=2020, Month='April', day=2),\n",
              " Row(id=3, total=5.53, customer_id=41, store_id=3, order_date=datetime.date(2020, 3, 3), Year=2020, Month='March', day=3)]"
            ]
          },
          "metadata": {
            "tags": []
          },
          "execution_count": 21
        }
      ]
    },
    {
      "cell_type": "code",
      "metadata": {
        "id": "54tUqeB2EsaG"
      },
      "source": [
        "# Join all three data frames to get the desired output.\n",
        "final_df = orders_data.join(customer_data, orders_data.customer_id==customer_data.id, how='left')"
      ],
      "execution_count": null,
      "outputs": []
    },
    {
      "cell_type": "code",
      "metadata": {
        "id": "fOMMNWuiG4n8"
      },
      "source": [
        "final_df = final_df.join(store_data, final_df.store_id==store_data.id, how='left')"
      ],
      "execution_count": null,
      "outputs": []
    },
    {
      "cell_type": "code",
      "metadata": {
        "colab": {
          "base_uri": "https://localhost:8080/"
        },
        "id": "F8TLgs3yI3R0",
        "outputId": "43f33d64-3785-4ee9-ff0a-df37b0846cdc"
      },
      "source": [
        "# Let's have a look at final data set\n",
        "final_df.show()"
      ],
      "execution_count": null,
      "outputs": [
        {
          "output_type": "stream",
          "text": [
            "+---+-----+-----------+--------+----------+----+--------+---+---+-----------+---------+--------------------+---+--------------------+--------------------+\n",
            "| id|total|customer_id|store_id|order_date|Year|   Month|day| id| first_name|last_name|               email| id|                name|             address|\n",
            "+---+-----+-----------+--------+----------+----+--------+---+---+-----------+---------+--------------------+---+--------------------+--------------------+\n",
            "|  1|19.36|         21|       1|2020-03-03|2020|   March|  3| 21|     Alexis| Ferguson|hayesdavid@yahoo.com|  1|          Valdez Inc|18321 Joseph Lodg...|\n",
            "|  2| 8.85|         88|       8|2020-04-02|2020|   April|  2| 88|Christopher|     Diaz|christinemcguire@...|  8|Martinez, Marsh a...|1434 Shelby Stree...|\n",
            "|  3| 5.53|         41|       3|2020-03-03|2020|   March|  3| 41|    Rebecca|   Little|cynthiaoliver@gma...|  3|          Taylor Ltd|3433 Hill Forest\n",
            "...|\n",
            "|  4| 12.9|         96|       8|2020-03-15|2020|   March| 15| 96|       Leah| Sandoval|michael53@domingu...|  8|Martinez, Marsh a...|1434 Shelby Stree...|\n",
            "|  5| 8.19|         25|       7|2020-01-21|2020| January| 21| 25|    Richard| Peterson| nancy53@hotmail.com|  7|            Hall Inc|23446 Brittney Is...|\n",
            "|  6|15.46|         83|      10|2020-05-03|2020|     May|  3| 83|      Brian|    Riley|  lauren30@gmail.com| 10|         Young Group|43149 Richard Fer...|\n",
            "|  7| 10.3|         33|       2|2020-02-21|2020|February| 21| 33|      Kayla|     West|hallbrenda@klein.biz|  2|        Stevens-Barr|Unit 0902 Box 444...|\n",
            "|  8|24.34|         53|       9|2020-02-05|2020|February|  5| 53|      Jamie|     Shah|jacobchavez@gmail...|  9|Henderson, Olson ...|05994 Johnson Ext...|\n",
            "|  9|22.06|         36|       8|2020-02-05|2020|February|  5| 36|    Breanna|   Conley|    wstone@gmail.com|  8|Martinez, Marsh a...|1434 Shelby Stree...|\n",
            "| 10|15.39|         86|       8|2020-04-20|2020|   April| 20| 86|     Joanna|    Terry|aprilwilliams@yah...|  8|Martinez, Marsh a...|1434 Shelby Stree...|\n",
            "| 11|16.94|         69|       4|2020-02-27|2020|February| 27| 69|    William|    Boone|daniellesanders@m...|  4|Adams, Barrett an...|Unit 5633 Box 166...|\n",
            "| 12|11.22|         28|       9|2020-02-05|2020|February|  5| 28|     Travis|   Barnes|tracigaines@gmail...|  9|Henderson, Olson ...|05994 Johnson Ext...|\n",
            "| 13|17.89|         11|      10|2020-01-26|2020| January| 26| 11|       Lisa|    Olsen|sbarnes@george-su...| 10|         Young Group|43149 Richard Fer...|\n",
            "| 14|16.84|          7|       9|2020-05-01|2020|     May|  1|  7|      Wayne|     Long|  willie18@yahoo.com|  9|Henderson, Olson ...|05994 Johnson Ext...|\n",
            "| 15|23.67|         76|       7|2020-04-13|2020|   April| 13| 76|     Dennis|   Rogers|     qmoreno@may.com|  7|            Hall Inc|23446 Brittney Is...|\n",
            "| 16|  6.4|         34|       7|2020-04-25|2020|   April| 25| 34|     Ronald|     Ross|allenvalerie@sala...|  7|            Hall Inc|23446 Brittney Is...|\n",
            "| 17|10.44|         14|       4|2020-03-22|2020|   March| 22| 14|       Paul|    Smith|martinezjessica@p...|  4|Adams, Barrett an...|Unit 5633 Box 166...|\n",
            "| 18| 4.08|         57|       7|2020-03-12|2020|   March| 12| 57|     Dennis|    Knapp|hayesphillip@harr...|  7|            Hall Inc|23446 Brittney Is...|\n",
            "| 19|11.96|         26|       4|2020-02-14|2020|February| 14| 26|   Jonathon|    White|michael10@hotmail...|  4|Adams, Barrett an...|Unit 5633 Box 166...|\n",
            "| 20|29.81|         62|       2|2020-01-20|2020| January| 20| 62|    Nichole|   Morris|samanthamoore@arc...|  2|        Stevens-Barr|Unit 0902 Box 444...|\n",
            "+---+-----+-----------+--------+----------+----+--------+---+---+-----------+---------+--------------------+---+--------------------+--------------------+\n",
            "only showing top 20 rows\n",
            "\n"
          ],
          "name": "stdout"
        }
      ]
    },
    {
      "cell_type": "code",
      "metadata": {
        "colab": {
          "base_uri": "https://localhost:8080/"
        },
        "id": "UFIapJCeI6sm",
        "outputId": "b1f25a6d-8145-4778-cf70-2b0712d5578f"
      },
      "source": [
        "# Drop redundant columns\n",
        "final_df.drop('id')"
      ],
      "execution_count": null,
      "outputs": [
        {
          "output_type": "execute_result",
          "data": {
            "text/plain": [
              "DataFrame[total: double, customer_id: int, store_id: int, order_date: date, Year: int, Month: string, day: int, first_name: string, last_name: string, email: string, name: string, address: string]"
            ]
          },
          "metadata": {
            "tags": []
          },
          "execution_count": 25
        }
      ]
    },
    {
      "cell_type": "code",
      "metadata": {
        "id": "WfXZxvgvJRu1"
      },
      "source": [
        "# Rename column for the desired output column name\n",
        "final_df = final_df.withColumnRenamed('name', 'Store Name')"
      ],
      "execution_count": null,
      "outputs": []
    },
    {
      "cell_type": "code",
      "metadata": {
        "id": "uCzA0y7TKGup"
      },
      "source": [
        "# Answer for Question 1\n",
        "Aggregate = final_df.groupBy('Year', 'Month', 'Store Name').agg(sum('total').alias('Total Revenue'), count('Month').alias('Number of orders'))"
      ],
      "execution_count": null,
      "outputs": []
    },
    {
      "cell_type": "code",
      "metadata": {
        "id": "Unwp6CkcLxuB"
      },
      "source": [
        "Aggregate.toPandas().to_csv('Aggregate.csv')"
      ],
      "execution_count": null,
      "outputs": []
    },
    {
      "cell_type": "code",
      "metadata": {
        "id": "wUZ33g_3Mrn8"
      },
      "source": [
        "orders_per_user = final_df.groupBy('first_name', 'last_name', 'email').count()"
      ],
      "execution_count": null,
      "outputs": []
    },
    {
      "cell_type": "code",
      "metadata": {
        "colab": {
          "base_uri": "https://localhost:8080/"
        },
        "id": "-9M0yANnO28O",
        "outputId": "d5f31180-23c4-494f-dc29-6882cab19776"
      },
      "source": [
        "orders_per_user.show()"
      ],
      "execution_count": null,
      "outputs": [
        {
          "output_type": "stream",
          "text": [
            "+----------+---------+--------------------+-----+\n",
            "|first_name|last_name|               email|count|\n",
            "+----------+---------+--------------------+-----+\n",
            "|   Douglas|   Finley|summersdawn@yahoo...|   12|\n",
            "|     Wayne|     Long|  willie18@yahoo.com|   13|\n",
            "|   Timothy| Caldwell|   tina37@barker.com|   12|\n",
            "|      Ryan|  Terrell|carsondaniel@yaho...|    6|\n",
            "|    Ronald|     Ross|allenvalerie@sala...|   12|\n",
            "|    Hannah|   Taylor|  andrea08@gmail.com|   11|\n",
            "| Katherine|    Jones|claudiabond@hotma...|   13|\n",
            "|   Beverly|   Barnes|mitchellkyle@yaho...|    5|\n",
            "|    Regina|  Sanchez|michael60@hamilto...|   10|\n",
            "|    Stacey|    Beard|paulday@brooks-pa...|   17|\n",
            "|    Nicole|  Navarro|nicholsonwilliam@...|   11|\n",
            "|     David|  Collins|terri55@cooper-tu...|    8|\n",
            "|    Joanna|    Terry|aprilwilliams@yah...|    7|\n",
            "|    Johnny| Campbell|tracywells@brown.com|    8|\n",
            "|    Pamela|Nicholson|richard37@hotmail...|   11|\n",
            "|    Travis|   Phelps|  andrew38@yahoo.com|    7|\n",
            "|  Nicholas| Hamilton|christopher49@nel...|   11|\n",
            "|     Brian|    Riley|  lauren30@gmail.com|    8|\n",
            "|     Tanya|   Holmes|    hlucas@boyer.com|    6|\n",
            "|   Francis|    Smith|jasonsmith@smith.com|    9|\n",
            "+----------+---------+--------------------+-----+\n",
            "only showing top 20 rows\n",
            "\n"
          ],
          "name": "stdout"
        }
      ]
    },
    {
      "cell_type": "code",
      "metadata": {
        "id": "kjY1fGqnO5mD"
      },
      "source": [
        "orders_per_user = orders_per_user.withColumnRenamed('count', 'Orders_Placed_by_user')"
      ],
      "execution_count": null,
      "outputs": []
    },
    {
      "cell_type": "code",
      "metadata": {
        "id": "AKSHf5QtPL46"
      },
      "source": [
        "Few_Orders = orders_per_user.filter(orders_per_user.Orders_Placed_by_user < 10)"
      ],
      "execution_count": null,
      "outputs": []
    },
    {
      "cell_type": "code",
      "metadata": {
        "colab": {
          "base_uri": "https://localhost:8080/"
        },
        "id": "k48yVxILP96w",
        "outputId": "a9030c5b-294c-4bda-9959-f1235f198337"
      },
      "source": [
        "Few_Orders.show()"
      ],
      "execution_count": null,
      "outputs": [
        {
          "output_type": "stream",
          "text": [
            "+----------+---------+--------------------+---------------------+\n",
            "|first_name|last_name|               email|Orders_Placed_by_user|\n",
            "+----------+---------+--------------------+---------------------+\n",
            "|      Ryan|  Terrell|carsondaniel@yaho...|                    6|\n",
            "|   Beverly|   Barnes|mitchellkyle@yaho...|                    5|\n",
            "|     David|  Collins|terri55@cooper-tu...|                    8|\n",
            "|    Joanna|    Terry|aprilwilliams@yah...|                    7|\n",
            "|    Johnny| Campbell|tracywells@brown.com|                    8|\n",
            "|    Travis|   Phelps|  andrew38@yahoo.com|                    7|\n",
            "|     Brian|    Riley|  lauren30@gmail.com|                    8|\n",
            "|     Tanya|   Holmes|    hlucas@boyer.com|                    6|\n",
            "|   Francis|    Smith|jasonsmith@smith.com|                    9|\n",
            "|Alexandria| Alvarado|sjohnston@young-b...|                    4|\n",
            "|  Michelle|  Bridges|carlsonanthony@pe...|                    7|\n",
            "|   Richard| Peterson| nancy53@hotmail.com|                    8|\n",
            "|    Shelby|   Osborn|angelanelson@yaho...|                    5|\n",
            "|     Linda|   Kelley|   jason51@gmail.com|                    9|\n",
            "|     Jason|    Moore|lisa30@russell-fr...|                    7|\n",
            "|    Melvin|    Stone|pamelamyers@newma...|                    5|\n",
            "|  Jennifer|  Collins|kimberlycole@adam...|                    9|\n",
            "|    Alicia| Martinez|jenniferestrada@y...|                    6|\n",
            "|   Heather|   Dennis|melissa24@rodrigu...|                    9|\n",
            "|      Lisa|    Olsen|sbarnes@george-su...|                    7|\n",
            "+----------+---------+--------------------+---------------------+\n",
            "only showing top 20 rows\n",
            "\n"
          ],
          "name": "stdout"
        }
      ]
    },
    {
      "cell_type": "code",
      "metadata": {
        "id": "eGX-zJugQArg"
      },
      "source": [
        "import hashlib"
      ],
      "execution_count": null,
      "outputs": []
    },
    {
      "cell_type": "code",
      "metadata": {
        "id": "iW1dQYFnUYvI"
      },
      "source": [
        "Few_Orders = Few_Orders.toPandas()"
      ],
      "execution_count": null,
      "outputs": []
    },
    {
      "cell_type": "code",
      "metadata": {
        "id": "F38fWGt7UF5e"
      },
      "source": [
        "# Answer for Question 3\n",
        "Few_Orders['email_encrypted']= [hashlib.md5(val.encode('UTF-8')).hexdigest() for val in Few_Orders['email']]"
      ],
      "execution_count": null,
      "outputs": []
    },
    {
      "cell_type": "code",
      "metadata": {
        "colab": {
          "base_uri": "https://localhost:8080/",
          "height": 204
        },
        "id": "eQFK4KdgURfw",
        "outputId": "b4cdfcd5-c435-4249-84dc-e89312bc6b66"
      },
      "source": [
        "Few_Orders.head(5)"
      ],
      "execution_count": null,
      "outputs": [
        {
          "output_type": "execute_result",
          "data": {
            "text/html": [
              "<div>\n",
              "<style scoped>\n",
              "    .dataframe tbody tr th:only-of-type {\n",
              "        vertical-align: middle;\n",
              "    }\n",
              "\n",
              "    .dataframe tbody tr th {\n",
              "        vertical-align: top;\n",
              "    }\n",
              "\n",
              "    .dataframe thead th {\n",
              "        text-align: right;\n",
              "    }\n",
              "</style>\n",
              "<table border=\"1\" class=\"dataframe\">\n",
              "  <thead>\n",
              "    <tr style=\"text-align: right;\">\n",
              "      <th></th>\n",
              "      <th>first_name</th>\n",
              "      <th>last_name</th>\n",
              "      <th>email</th>\n",
              "      <th>Orders_Placed_by_user</th>\n",
              "      <th>email_encrypted</th>\n",
              "    </tr>\n",
              "  </thead>\n",
              "  <tbody>\n",
              "    <tr>\n",
              "      <th>0</th>\n",
              "      <td>Ryan</td>\n",
              "      <td>Terrell</td>\n",
              "      <td>carsondaniel@yahoo.com</td>\n",
              "      <td>6</td>\n",
              "      <td>f7b1672d53d0ae4b07021aea9cf9f143</td>\n",
              "    </tr>\n",
              "    <tr>\n",
              "      <th>1</th>\n",
              "      <td>Beverly</td>\n",
              "      <td>Barnes</td>\n",
              "      <td>mitchellkyle@yahoo.com</td>\n",
              "      <td>5</td>\n",
              "      <td>79a0ea032f92e7993ea7431f2a582b5e</td>\n",
              "    </tr>\n",
              "    <tr>\n",
              "      <th>2</th>\n",
              "      <td>David</td>\n",
              "      <td>Collins</td>\n",
              "      <td>terri55@cooper-turner.com</td>\n",
              "      <td>8</td>\n",
              "      <td>050ec448b62eb2f80f05d84e477fa1d8</td>\n",
              "    </tr>\n",
              "    <tr>\n",
              "      <th>3</th>\n",
              "      <td>Joanna</td>\n",
              "      <td>Terry</td>\n",
              "      <td>aprilwilliams@yahoo.com</td>\n",
              "      <td>7</td>\n",
              "      <td>f9477c84df3fa1addf8fb94a5bd41b6c</td>\n",
              "    </tr>\n",
              "    <tr>\n",
              "      <th>4</th>\n",
              "      <td>Johnny</td>\n",
              "      <td>Campbell</td>\n",
              "      <td>tracywells@brown.com</td>\n",
              "      <td>8</td>\n",
              "      <td>0cc70fe75f583592ebd844bf22660859</td>\n",
              "    </tr>\n",
              "  </tbody>\n",
              "</table>\n",
              "</div>"
            ],
            "text/plain": [
              "  first_name last_name  ... Orders_Placed_by_user                   email_encrypted\n",
              "0       Ryan   Terrell  ...                     6  f7b1672d53d0ae4b07021aea9cf9f143\n",
              "1    Beverly    Barnes  ...                     5  79a0ea032f92e7993ea7431f2a582b5e\n",
              "2      David   Collins  ...                     8  050ec448b62eb2f80f05d84e477fa1d8\n",
              "3     Joanna     Terry  ...                     7  f9477c84df3fa1addf8fb94a5bd41b6c\n",
              "4     Johnny  Campbell  ...                     8  0cc70fe75f583592ebd844bf22660859\n",
              "\n",
              "[5 rows x 5 columns]"
            ]
          },
          "metadata": {
            "tags": []
          },
          "execution_count": 37
        }
      ]
    },
    {
      "cell_type": "code",
      "metadata": {
        "id": "mCVLEFBxV_hd"
      },
      "source": [
        "# Answer for Question 2\n",
        "Few_Orders.to_csv('Users_with_less_than_Ten_orders.csv')"
      ],
      "execution_count": null,
      "outputs": []
    },
    {
      "cell_type": "code",
      "metadata": {
        "id": "zjNbDWwpWWI8"
      },
      "source": [
        ""
      ],
      "execution_count": null,
      "outputs": []
    }
  ]
}